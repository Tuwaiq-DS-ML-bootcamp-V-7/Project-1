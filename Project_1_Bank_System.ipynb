{
 "cells": [
  {
   "cell_type": "code",
   "execution_count": null,
   "id": "ad90f792-9c41-4962-9335-b9a1ead0b8d9",
   "metadata": {},
   "outputs": [],
   "source": [
    "#1. Open an account (Firas)\n"
   ]
  },
  {
   "cell_type": "code",
   "execution_count": null,
   "id": "7ce0736f-1264-4fac-9da4-b341c71d6b6c",
   "metadata": {},
   "outputs": [],
   "source": [
    "#Deposit money (Naif)"
   ]
  },
  {
   "cell_type": "code",
   "execution_count": null,
   "id": "74f28850-f0af-44ea-a017-d4c703a4c0ee",
   "metadata": {},
   "outputs": [],
   "source": [
    "#Withdrawing money (Firas)"
   ]
  },
  {
   "cell_type": "code",
   "execution_count": null,
   "id": "2e97b3a1-7383-4d82-829c-30876f6a40a5",
   "metadata": {},
   "outputs": [],
   "source": [
    "#Balance display (Abdullah)"
   ]
  },
  {
   "cell_type": "code",
   "execution_count": null,
   "id": "052ae300-ee6c-4b37-8526-b1ab3967a056",
   "metadata": {},
   "outputs": [],
   "source": [
    "#Closing the account (Naif)"
   ]
  },
  {
   "cell_type": "code",
   "execution_count": null,
   "id": "1d661955-9064-4474-8141-58983984f4d8",
   "metadata": {},
   "outputs": [],
   "source": [
    "#Operations presentation (Abdullah)"
   ]
  },
  {
   "cell_type": "code",
   "execution_count": null,
   "id": "03367187-962b-4c73-a1c6-ca862705d351",
   "metadata": {},
   "outputs": [],
   "source": [
    "#UI Design (Salman)"
   ]
  },
  {
   "cell_type": "code",
   "execution_count": null,
   "id": "cb2c046b-d2bc-43e6-b73f-f7b3c72f452c",
   "metadata": {},
   "outputs": [],
   "source": []
  },
  {
   "cell_type": "code",
   "execution_count": null,
   "id": "40b6760d-f6a2-4297-b9db-7f262e6ecdad",
   "metadata": {},
   "outputs": [],
   "source": []
  },
  {
   "cell_type": "code",
   "execution_count": null,
   "id": "399ef069-a114-48c4-b4a0-2dc8e5fb86c4",
   "metadata": {},
   "outputs": [],
   "source": []
  },
  {
   "cell_type": "code",
   "execution_count": null,
   "id": "aeff1239-f546-40c6-a426-ebfc89e8160d",
   "metadata": {},
   "outputs": [],
   "source": []
  }
 ],
 "metadata": {
  "kernelspec": {
   "display_name": "Python 3 (ipykernel)",
   "language": "python",
   "name": "python3"
  },
  "language_info": {
   "codemirror_mode": {
    "name": "ipython",
    "version": 3
   },
   "file_extension": ".py",
   "mimetype": "text/x-python",
   "name": "python",
   "nbconvert_exporter": "python",
   "pygments_lexer": "ipython3",
   "version": "3.12.4"
  }
 },
 "nbformat": 4,
 "nbformat_minor": 5
}
