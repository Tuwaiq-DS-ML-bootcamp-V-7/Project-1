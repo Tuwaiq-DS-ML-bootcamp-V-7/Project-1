{
  "cells": [
    {
      "cell_type": "code",
      "execution_count": 1,
      "id": "2177229e-5437-465c-b2f3-e100b3c529c2",
      "metadata": {
        "colab": {
          "base_uri": "https://localhost:8080/"
        },
        "id": "2177229e-5437-465c-b2f3-e100b3c529c2",
        "outputId": "344bc4b5-16d2-43da-8a6a-1e0641e5c9b3"
      },
      "outputs": [
        {
          "output_type": "stream",
          "name": "stdout",
          "text": [
            "/bin/bash: line 1: python.exe: command not found\n",
            "Collecting python-telegram-bot\n",
            "  Downloading python_telegram_bot-21.4-py3-none-any.whl.metadata (17 kB)\n",
            "Collecting httpx~=0.27 (from python-telegram-bot)\n",
            "  Downloading httpx-0.27.0-py3-none-any.whl.metadata (7.2 kB)\n",
            "Requirement already satisfied: anyio in /usr/local/lib/python3.10/dist-packages (from httpx~=0.27->python-telegram-bot) (3.7.1)\n",
            "Requirement already satisfied: certifi in /usr/local/lib/python3.10/dist-packages (from httpx~=0.27->python-telegram-bot) (2024.7.4)\n",
            "Collecting httpcore==1.* (from httpx~=0.27->python-telegram-bot)\n",
            "  Downloading httpcore-1.0.5-py3-none-any.whl.metadata (20 kB)\n",
            "Requirement already satisfied: idna in /usr/local/lib/python3.10/dist-packages (from httpx~=0.27->python-telegram-bot) (3.7)\n",
            "Requirement already satisfied: sniffio in /usr/local/lib/python3.10/dist-packages (from httpx~=0.27->python-telegram-bot) (1.3.1)\n",
            "Collecting h11<0.15,>=0.13 (from httpcore==1.*->httpx~=0.27->python-telegram-bot)\n",
            "  Downloading h11-0.14.0-py3-none-any.whl.metadata (8.2 kB)\n",
            "Requirement already satisfied: exceptiongroup in /usr/local/lib/python3.10/dist-packages (from anyio->httpx~=0.27->python-telegram-bot) (1.2.2)\n",
            "Downloading python_telegram_bot-21.4-py3-none-any.whl (644 kB)\n",
            "\u001b[2K   \u001b[90m━━━━━━━━━━━━━━━━━━━━━━━━━━━━━━━━━━━━━━━━\u001b[0m \u001b[32m644.8/644.8 kB\u001b[0m \u001b[31m12.9 MB/s\u001b[0m eta \u001b[36m0:00:00\u001b[0m\n",
            "\u001b[?25hDownloading httpx-0.27.0-py3-none-any.whl (75 kB)\n",
            "\u001b[2K   \u001b[90m━━━━━━━━━━━━━━━━━━━━━━━━━━━━━━━━━━━━━━━━\u001b[0m \u001b[32m75.6/75.6 kB\u001b[0m \u001b[31m3.6 MB/s\u001b[0m eta \u001b[36m0:00:00\u001b[0m\n",
            "\u001b[?25hDownloading httpcore-1.0.5-py3-none-any.whl (77 kB)\n",
            "\u001b[2K   \u001b[90m━━━━━━━━━━━━━━━━━━━━━━━━━━━━━━━━━━━━━━━━\u001b[0m \u001b[32m77.9/77.9 kB\u001b[0m \u001b[31m3.2 MB/s\u001b[0m eta \u001b[36m0:00:00\u001b[0m\n",
            "\u001b[?25hDownloading h11-0.14.0-py3-none-any.whl (58 kB)\n",
            "\u001b[2K   \u001b[90m━━━━━━━━━━━━━━━━━━━━━━━━━━━━━━━━━━━━━━━━\u001b[0m \u001b[32m58.3/58.3 kB\u001b[0m \u001b[31m1.6 MB/s\u001b[0m eta \u001b[36m0:00:00\u001b[0m\n",
            "\u001b[?25hInstalling collected packages: h11, httpcore, httpx, python-telegram-bot\n",
            "Successfully installed h11-0.14.0 httpcore-1.0.5 httpx-0.27.0 python-telegram-bot-21.4\n"
          ]
        }
      ],
      "source": [
        "!python.exe -m pip install --upgrade pip\n",
        "!pip install --upgrade python-telegram-bot"
      ]
    },
    {
      "cell_type": "code",
      "execution_count": 2,
      "id": "01921918-fed5-4f89-8321-4b77f58dd762",
      "metadata": {
        "colab": {
          "base_uri": "https://localhost:8080/"
        },
        "id": "01921918-fed5-4f89-8321-4b77f58dd762",
        "outputId": "27a157ef-65c6-4f01-cf5b-5393e1dcfcfa"
      },
      "outputs": [
        {
          "output_type": "stream",
          "name": "stdout",
          "text": [
            "Requirement already satisfied: nest_asyncio in /usr/local/lib/python3.10/dist-packages (1.6.0)\n"
          ]
        }
      ],
      "source": [
        "!pip install nest_asyncio"
      ]
    },
    {
      "cell_type": "code",
      "execution_count": 3,
      "id": "10e29f1b-94de-45ab-9fae-0bced502c9a8",
      "metadata": {
        "colab": {
          "base_uri": "https://localhost:8080/"
        },
        "id": "10e29f1b-94de-45ab-9fae-0bced502c9a8",
        "outputId": "0c88dddd-a12c-4de7-cc40-251d1a36e9a4"
      },
      "outputs": [
        {
          "output_type": "stream",
          "name": "stdout",
          "text": [
            "Requirement already satisfied: pytz in /usr/local/lib/python3.10/dist-packages (2024.1)\n"
          ]
        }
      ],
      "source": [
        "pip install pytz"
      ]
    },
    {
      "cell_type": "code",
      "execution_count": null,
      "id": "5552cf0c",
      "metadata": {
        "colab": {
          "base_uri": "https://localhost:8080/"
        },
        "id": "5552cf0c",
        "outputId": "025d7021-7e48-46b5-a7c3-1af302edcd79"
      },
      "outputs": [
        {
          "output_type": "stream",
          "name": "stdout",
          "text": [
            "Starting bot\n",
            "Polling...\n"
          ]
        }
      ],
      "source": [
        "#library\n",
        "import datetime\n",
        "from telegram import Update\n",
        "from telegram.ext import Application, CommandHandler, ContextTypes, MessageHandler, filters\n",
        "import logging\n",
        "from typing import Final\n",
        "import random\n",
        "import time\n",
        "\n",
        "# Setup\n",
        "TOKEN: Final = '7391587311:AAESm_hGgbtFVzDixgE8a0ArAtOxgRrB4Lc'\n",
        "BOT_USERNAME: Final = '@SeminarSeminarBot'\n",
        "logging.basicConfig(format='%(asctime)s - %(name)s - %(levelname)s - %(message)s', level=logging.INFO)\n",
        "\n",
        "\n",
        "# list of seminars category\n",
        "seminars = {\n",
        "    \"musical\": [],\n",
        "    \"educational\": [],\n",
        "    \"health and Wellness\": [],\n",
        "    \"business\": [],\n",
        "    \"art\": []\n",
        "}\n",
        "\n",
        "\n",
        "\n",
        "#start Function\n",
        "async def start(update: Update, context: ContextTypes.DEFAULT_TYPE):\n",
        "    await update.message.reply_text('Hello! I am Seminar Bot, How can i help you...')\n",
        "\n",
        "#help\n",
        "async def help_command(update: Update, context: ContextTypes.DEFAULT_TYPE):\n",
        "    await update.message.reply_text('Welcome to the Seminar Bot! Use /addseminar to add a new seminar, and /display to see all available seminars!')\n",
        "\n",
        "\n",
        "\n",
        "\n",
        "\n",
        "#categories to choose from\n",
        "def list_categories():\n",
        "    return ', '.join(seminars.keys())\n",
        "\n",
        "\n",
        "#add seminar\n",
        "async def add_seminar(update: Update, context: ContextTypes.DEFAULT_TYPE):\n",
        "    context.user_data['step'] = 'choose_category'\n",
        "    await update.message.reply_text(f'Please choose a category to add a seminar: {list_categories()}')\n",
        "\n",
        "async def choose_category(update: Update, context: ContextTypes.DEFAULT_TYPE):\n",
        "    category = update.message.text.strip()\n",
        "    if category in seminars:\n",
        "        context.user_data['add_category'] = category\n",
        "        context.user_data['step'] = 'add_details'\n",
        "        await update.message.reply_text(\"Please provide details like this: 'Title, Location, YYYY-MM-DD, HH:MM, URL, Communication method'\")\n",
        "    else:\n",
        "        await update.message.reply_text(f'Invalid category. Please choose from: {list_categories()}')\n",
        "\n",
        "\n",
        "\n",
        "async def save_seminar_details(update: Update, context: ContextTypes.DEFAULT_TYPE):\n",
        "    category = context.user_data['add_category']\n",
        "    try:\n",
        "        details = update.message.text.split(', ')\n",
        "        if len(details) != 6:\n",
        "            await update.message.reply_text(\"Please provide all details like this: 'Title, Location, YYYY-MM-DD, HH:MM, URL, Communication method'\")\n",
        "            return\n",
        "\n",
        "        seminar = {\n",
        "            'name': details[0],\n",
        "            'location': details[1],\n",
        "            'date': details[2],\n",
        "            'time': details[3],\n",
        "            'url': details[4],\n",
        "            'Communication method': details[5]\n",
        "        }\n",
        "\n",
        "        seminars[category].append(seminar)\n",
        "        await update.message.reply_text(f'Seminar \"{details[0]}\" added successfully in category {category}.')\n",
        "        context.user_data.pop('add_category')\n",
        "        context.user_data.pop('step')\n",
        "    except Exception as e:\n",
        "        await update.message.reply_text(f'Error adding seminar: {e}')\n",
        "\n",
        "\n",
        "\n",
        "\n",
        "# Display seminars\n",
        "async def display_seminars(update: Update, context: ContextTypes.DEFAULT_TYPE):\n",
        "    remove_seminar()\n",
        "    if not any(seminars.values()):\n",
        "        await update.message.reply_text('There are no available seminars.')\n",
        "        return\n",
        "\n",
        "    display = \"\"\n",
        "    for category, seminar_list in seminars.items():\n",
        "        if seminar_list:\n",
        "            display += f\"\\n*{category} Seminars:*\\n\"\n",
        "            for i, seminar in enumerate(seminar_list, start=1):\n",
        "                display += (\n",
        "                    f\"  {i}. *Title:* {seminar['name']}\\n\"\n",
        "                    f\"     *Location:* {seminar['location']}\\n\"\n",
        "                    f\"     *Date:* {seminar['date']}\\n\"\n",
        "                    f\"     *Time:* {seminar['time']}\\n\"\n",
        "                    f\"     *URL:* {seminar['url']}\\n\"\n",
        "                    f\"     *Communication method:* {seminar['Communication method']}\\n\\n\"\n",
        "\n",
        "                )\n",
        "\n",
        "    await update.message.reply_text(display, parse_mode='Markdown')\n",
        "\n",
        "\n",
        "\n",
        "\n",
        "\n",
        "#remove outdated seminars\n",
        "def remove_seminar():\n",
        "    current_date = datetime.datetime.now()\n",
        "    for category in seminars:\n",
        "        seminars[category] = list(filter(lambda seminar: datetime.datetime.strptime(f\"{seminar['date']}, {seminar['time']}\", '%Y-%m-%d, %H:%M') >= current_date, seminars[category]))\n",
        "\n",
        "\n",
        "\n",
        "\n",
        "# Basic\n",
        "# Function to process and respond to text\n",
        "def handle_response(text: str) -> str:\n",
        "    processed: str = text.lower()\n",
        "    if 'seminar' in processed:\n",
        "        return 'Use /display command to see available seminars.'\n",
        "    return 'I do not understand you.'\n",
        "\n",
        "# Message handler\n",
        "async def handle_message(update: Update, context: ContextTypes.DEFAULT_TYPE):\n",
        "    if context.user_data.get('step') == 'choose_category':\n",
        "        await choose_category(update, context)\n",
        "    elif context.user_data.get('step') == 'add_details':\n",
        "        await save_seminar_details(update, context)\n",
        "    else:\n",
        "        message_type: str = update.message.chat.type\n",
        "        text: str = update.message.text\n",
        "\n",
        "        print(f'User ({update.message.chat.id}) in {message_type} chat: \"{text}\"')\n",
        "\n",
        "        if message_type == 'group':\n",
        "            if BOT_USERNAME in text:\n",
        "                new_text: str = text.replace(BOT_USERNAME, '').strip()\n",
        "                response: str = handle_response(new_text)\n",
        "            else:\n",
        "                return\n",
        "        else:\n",
        "            response: str = handle_response(text)\n",
        "\n",
        "        print('Bot:', response)\n",
        "        await update.message.reply_text(response)\n",
        "\n",
        "def main():\n",
        "    print('Starting bot')\n",
        "    app = Application.builder().token(TOKEN).build()\n",
        "\n",
        "    # Commands\n",
        "    app.add_handler(CommandHandler(\"start\", start))\n",
        "    app.add_handler(CommandHandler(\"help\", help_command))\n",
        "    app.add_handler(CommandHandler(\"addseminar\", add_seminar))\n",
        "    app.add_handler(CommandHandler(\"display\", display_seminars))\n",
        "\n",
        "    # Message handler\n",
        "    app.add_handler(MessageHandler(filters.TEXT & (~filters.COMMAND), handle_message))\n",
        "\n",
        "    # Error handler\n",
        "    # app.add_error_handler(error)  # Uncomment when function is defined\n",
        "\n",
        "    # Start polling\n",
        "    print('Polling...')\n",
        "    app.run_polling(poll_interval=3)\n",
        "\n",
        "if __name__ == '__main__':\n",
        "    import nest_asyncio\n",
        "    nest_asyncio.apply()\n",
        "    main()"
      ]
    },
    {
      "cell_type": "code",
      "execution_count": null,
      "id": "db26b089",
      "metadata": {
        "id": "db26b089"
      },
      "outputs": [],
      "source": []
    },
    {
      "cell_type": "code",
      "execution_count": null,
      "id": "e680e85c",
      "metadata": {
        "id": "e680e85c"
      },
      "outputs": [],
      "source": []
    }
  ],
  "metadata": {
    "kernelspec": {
      "display_name": "Python 3 (ipykernel)",
      "language": "python",
      "name": "python3"
    },
    "language_info": {
      "codemirror_mode": {
        "name": "ipython",
        "version": 3
      },
      "file_extension": ".py",
      "mimetype": "text/x-python",
      "name": "python",
      "nbconvert_exporter": "python",
      "pygments_lexer": "ipython3",
      "version": "3.11.5"
    },
    "colab": {
      "provenance": []
    }
  },
  "nbformat": 4,
  "nbformat_minor": 5
}