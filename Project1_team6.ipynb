{
 "cells": [
  {
   "cell_type": "code",
   "execution_count": 23,
   "id": "4e900b47-a506-4ca0-8b29-cc174ee41066",
   "metadata": {},
   "outputs": [
    {
     "name": "stdout",
     "output_type": "stream",
     "text": [
      "{}\n"
     ]
    }
   ],
   "source": [
    "home_pharmacy={}\n",
    "print(home_pharmacy)"
   ]
  },
  {
   "cell_type": "code",
   "execution_count": 24,
   "id": "aa5a22ae",
   "metadata": {},
   "outputs": [
    {
     "name": "stdout",
     "output_type": "stream",
     "text": [
      "{'Paracetamol': ['fever reducer', ['karim', 'muhamed'], 6, '2026-12-12', 'yes'], 'Insulin': ['Treats diabetes', ['ali', 'khalid'], 10, '2030-01-01', 'yes'], 'Aspirin': ['Pain reliever', ['ahmed', 'hashim'], 3, '2025-12-12', 'yes']}\n"
     ]
    }
   ],
   "source": [
    "home_pharmacy\n",
    "def add(): \n",
    "        while True: #loop to enter the info of medicine\n",
    "            medcname = input(\"Enter The medicine Name\")\n",
    "            Uses = input(\"Enter the Uses of medicine\")\n",
    "            person_name = input(\"Enter the person name \")\n",
    "            person2_name = input(\"Enter the person name 2\")\n",
    "            number_storage = int(input(\"Enter the Quantity of medicine\"))\n",
    "            exp_date= input(\"Enter the expiry date Like 2030-06-06\")\n",
    "            store_in_fridge= input(\"should be in fridge? \")\n",
    "\n",
    "            home_pharmacy[medcname] = [Uses, [person_name,person2_name], number_storage,exp_date,store_in_fridge] #dictionary as {key=medicine_name : values=Uses,person_name...}\n",
    "\n",
    "\n",
    "\n",
    "            ext = input(\"Press any key to add more medicine \\n Enter \\'exit\\' to exit :\") \n",
    "            if ext == \"exit\":\n",
    "                break\n",
    "        return home_pharmacy\n",
    "\n",
    "\n",
    "\n",
    "add()#call function \n",
    "print(home_pharmacy)"
   ]
  },
  {
   "cell_type": "code",
   "execution_count": 25,
   "id": "8ac61f5b-cfc2-4304-957d-1a019cf18991",
   "metadata": {},
   "outputs": [
    {
     "name": "stdout",
     "output_type": "stream",
     "text": [
      "all medcName : dict_keys(['Paracetamol', 'Insulin', 'Aspirin'])\n"
     ]
    }
   ],
   "source": [
    "print(\"all medcName :\",home_pharmacy.keys())"
   ]
  },
  {
   "cell_type": "code",
   "execution_count": 26,
   "id": "944b6086-b9a4-4b55-81ec-f5a4e8c5e99c",
   "metadata": {},
   "outputs": [
    {
     "name": "stdout",
     "output_type": "stream",
     "text": [
      "The Aspirin should be in fridge :  yes\n"
     ]
    }
   ],
   "source": [
    "def Storage_Location(medicine_name,home_pharmacy):# Used to know the storage location.\n",
    "        if medicine_name in home_pharmacy: # check if the medicine name in our dict={home_pharmacy}\n",
    "            print(\"The \"+med_name+ ' should be in fridge : ' , home_pharmacy.get(medicine_name)[4]) #Print the result\n",
    "        else:\n",
    "            print('medicine not found.. ')\n",
    "        \n",
    "\n",
    "med_name = input(\"Enter the medicine name\" )    # enter medicine name \n",
    "name_of_med=med_name\n",
    "\n",
    "\n",
    "Storage_Location(name_of_med,home_pharmacy)     # called function"
   ]
  },
  {
   "cell_type": "code",
   "execution_count": 27,
   "id": "e628e04b-bc6d-4d24-9a64-f3af7a139464",
   "metadata": {},
   "outputs": [
    {
     "data": {
      "text/plain": [
       "\" The list of home Pharmacy: {'Paracetamol': ['fever reducer', ['karim', 'muhamed'], 6, '2026-12-12', 'yes'], 'Insulin': ['Treats diabetes', ['ali', 'khalid'], 10, '2030-01-01', 'yes'], 'Aspirin': ['Pain reliever', ['ahmed', 'hashim'], 3, '2025-12-12', 'yes']}\""
      ]
     },
     "execution_count": 27,
     "metadata": {},
     "output_type": "execute_result"
    }
   ],
   "source": [
    "#DISPLAY EVERYTHING()\n",
    "print_all = lambda h : f' The list of home Pharmacy: {h}' #lambda function \n",
    "print_all(home_pharmacy)\n"
   ]
  },
  {
   "cell_type": "code",
   "execution_count": 28,
   "id": "4aaf9e59-c233-4709-9c01-085de678bec4",
   "metadata": {},
   "outputs": [
    {
     "name": "stdout",
     "output_type": "stream",
     "text": [
      "ali\n",
      "Insulin\n"
     ]
    }
   ],
   "source": [
    "def find_Registered_medicine(name): #to find Registered medicine to the person Enter the personName \n",
    "    for x in home_pharmacy.keys():  #In our dictionary medicine is keys\n",
    "        for i in home_pharmacy.get(x)[1]:\n",
    "                if name == i:\n",
    "                    print(x)\n",
    "\n",
    "name = input(\"Enter Person Name : \")\n",
    "print(name)\n",
    "find_Registered_medicine(name)# call function"
   ]
  },
  {
   "cell_type": "code",
   "execution_count": 29,
   "id": "7e6c9c72-00ed-4e67-9c18-8e91eed90e21",
   "metadata": {},
   "outputs": [
    {
     "name": "stdout",
     "output_type": "stream",
     "text": [
      "1\n"
     ]
    },
    {
     "data": {
      "text/plain": [
       "'The new Stock is: 4'"
      ]
     },
     "execution_count": 29,
     "metadata": {},
     "output_type": "execute_result"
    }
   ],
   "source": [
    "def add_stock(name_medicine , stock): # Enter the Medicine name to add new medicine number in stock \n",
    "\n",
    "    try:\n",
    "        c = home_pharmacy.get(name_medicine)[2] + stock\n",
    "        home_pharmacy[name_medicine] [2] = c\n",
    "        txt=\"The new Stock is: \"\n",
    "        all_c = txt + str(c)\n",
    "\n",
    "        return all_c\n",
    "    except:\n",
    "        print('Medicine Name not Found...')\n",
    "\n",
    "medname = input(\"Enter the Medicine Name :\")\n",
    "name_medicine = medname\n",
    "new_no = int(input(\"Enter the Quantity to Add in Stock : \")) \n",
    "print(new_no)\n",
    "add_stock(name_medicine , new_no)\n"
   ]
  },
  {
   "cell_type": "code",
   "execution_count": 30,
   "id": "74454333",
   "metadata": {},
   "outputs": [
    {
     "name": "stdout",
     "output_type": "stream",
     "text": [
      "{'Paracetamol': ['fever reducer', ['karim', 'muhamed'], 6, '2026-12-12', 'yes'], 'Insulin': ['Treats diabetes', ['ali', 'khalid'], 10, '2030-01-01', 'yes'], 'Aspirin': ['Pain reliever', ['ahmed', 'hashim'], 4, '2025-12-12', 'yes']}\n"
     ]
    }
   ],
   "source": [
    "print(home_pharmacy)#to disply the total after add to stock"
   ]
  },
  {
   "cell_type": "code",
   "execution_count": 32,
   "id": "68d2abad",
   "metadata": {},
   "outputs": [
    {
     "name": "stdout",
     "output_type": "stream",
     "text": [
      "8\n",
      "The new Stock is : 8\n"
     ]
    }
   ],
   "source": [
    "def update_stock(name_medicine, stock):#To Update New  Number of Medicine in Stock \n",
    "\n",
    "\n",
    "  if name_medicine in home_pharmacy:\n",
    "    home_pharmacy[name_medicine][2] = stock   # Update the stock value for the existing medication\n",
    "    txt=\"The new Stock is :\"\n",
    "    print(txt,home_pharmacy[name_med][2])\n",
    "  else:\n",
    "    print(\"Medication not found\")\n",
    "\n",
    "# Example usage:\n",
    "name_med = input(\"Enter medicine name :\")\n",
    "new_no = int(input(\"Enter the Quantity to update the Stock : \"))\n",
    "print(new_no)\n",
    "update_stock(name_med, new_no)\n"
   ]
  },
  {
   "cell_type": "code",
   "execution_count": 33,
   "id": "8f6b6fce-8914-4b15-8e20-87f3047dcdc7",
   "metadata": {},
   "outputs": [
    {
     "name": "stdout",
     "output_type": "stream",
     "text": [
      "{'Paracetamol': ['fever reducer', ['karim', 'muhamed'], 6, '2026-12-12', 'yes'], 'Insulin': ['Treats diabetes', ['ali', 'khalid'], 10, '2030-01-01', 'yes'], 'Aspirin': ['Pain reliever', ['ahmed', 'hashim'], 8, '2025-12-12', 'yes']}\n"
     ]
    }
   ],
   "source": [
    "print(home_pharmacy)#to disply the total after update the stock"
   ]
  },
  {
   "cell_type": "code",
   "execution_count": 34,
   "id": "c934d0e5-dfdd-44f1-9c62-e3fb0a6548fe",
   "metadata": {},
   "outputs": [
    {
     "name": "stdout",
     "output_type": "stream",
     "text": [
      "Aspirin\n",
      "The Medicine Used for : Pain reliever\n",
      "Person Used this Medicine : ahmed\n",
      "Person Used this Medicine : hashim\n",
      "Quantity of Available Stock : 8\n",
      "Expiry Date : 2025-12-12\n",
      "Store in Fridge? : yes\n"
     ]
    }
   ],
   "source": [
    "def search_by_Medicine_name(): #To Display Medicine info By Enter the Medicine Name\n",
    "    while True:\n",
    "        med_name=input(\"Enter Medicine Name(string only)\")\n",
    "        if(med_name.isalpha()):       # Check if the input is a string\n",
    "                print(med_name)\n",
    "                break\n",
    "        else:\n",
    "                print(\"only string\")\n",
    "    if(home_pharmacy.get(med_name)):\n",
    "        print(\"The Medicine Used for : \"+home_pharmacy.get(med_name)[0])\n",
    "        print(\"Person Used this Medicine : \"+home_pharmacy.get(med_name)[1][0])\n",
    "        print(\"Person Used this Medicine : \"+home_pharmacy.get(med_name)[1][1])\n",
    "        print(\"Quantity of Available Stock :\" , home_pharmacy.get(med_name)[2])\n",
    "        print(\"Expiry Date : \"+home_pharmacy.get(med_name)[3])\n",
    "        print(\"Store in Fridge? :\", home_pharmacy.get(med_name)[4])\n",
    "\n",
    "\n",
    "    else:\n",
    "        print(\"not found\")\n",
    "\n",
    "search_by_Medicine_name()   #called function"
   ]
  },
  {
   "cell_type": "code",
   "execution_count": 35,
   "id": "6763041a-a72f-4d30-bc8e-b3859d0d0eb0",
   "metadata": {},
   "outputs": [
    {
     "name": "stdout",
     "output_type": "stream",
     "text": [
      "['Paracetamol, Remaining Time: 868 days, 0:00:00', 'Insulin, Remaining Time: 1984 days, 0:00:00', 'Aspirin, Remaining Time: 503 days, 0:00:00']\n",
      "\n"
     ]
    }
   ],
   "source": [
    "import datetime    # Import the library to manage datetime \n",
    "\n",
    "def Time_remaining_until_expiration():  # display the result as list [name of Medicine ,Remaining Time]\n",
    "\n",
    "\n",
    "    cur_date=datetime.date.today()  # by using the library we Get today date\n",
    "    list = []         #Empty list\n",
    "    for n in home_pharmacy:\n",
    "        i=0\n",
    "        keys=[]\n",
    "        keys.append(n) \n",
    "\n",
    "\n",
    "\n",
    "        date=home_pharmacy.get(n)[3]\n",
    "        exp=date.split(\"-\")     # split date to year month day\n",
    "        exp_date = datetime.date(int(exp[0]), int(exp[1]), int(exp[2]))    #Convert expiration date string to a datetime object\n",
    " \n",
    "\n",
    "\n",
    "        re_time = exp_date - cur_date   \n",
    "        q = f\"{keys[i]}, Remaining Time: {re_time}\"      #Format the output string as medication name ,and remaining days\n",
    "        list.append(q)\n",
    "\n",
    "        i+=1\n",
    "        \n",
    "\n",
    "    print(list)\n",
    "    print(\"\")\n",
    "\n",
    "\n",
    "Time_remaining_until_expiration()  #Call the function to display the results\n",
    "\n"
   ]
  },
  {
   "cell_type": "code",
   "execution_count": 36,
   "id": "8cb906d8-87f1-4c0b-9f4b-818344e0b66b",
   "metadata": {},
   "outputs": [
    {
     "name": "stdout",
     "output_type": "stream",
     "text": [
      "Aspirin, 503 days\n",
      "Paracetamol, 868 days\n",
      "Insulin, 1984 days\n"
     ]
    }
   ],
   "source": [
    "import datetime\n",
    "\n",
    "def Sort_Time_remaining_until_expiration():     #to Sort Display the expiry date for each medicine in our home pharmacy\n",
    "    \n",
    "    \n",
    "    cur_date=datetime.date.today()\n",
    "    list=[]\n",
    "    td=[]\n",
    "    for n in home_pharmacy:\n",
    "        i=0\n",
    "        keys=[]\n",
    "        keys.append(n)\n",
    "\n",
    "\n",
    "\n",
    "        date=home_pharmacy.get(n)[3]\n",
    "        exp=date.split(\"-\")\n",
    "        exp_date = datetime.date(int(exp[0]), int(exp[1]), int(exp[2]))  #Convert expiration date string to a datetime object\n",
    "\n",
    "\n",
    "        re_time = exp_date - cur_date\n",
    "\n",
    "        td=[keys[i],int(re_time.days)]\n",
    "        list.append(td)\n",
    "\n",
    "        sorted_med = sorted(list, key=lambda x: x[1])\n",
    "    for item in sorted_med:\n",
    "        #print(item. , 'days')\n",
    "        print(f\"{item[0]}, {item[1]} days\") \n",
    "\n",
    "\n",
    "\n",
    "\n",
    "Sort_Time_remaining_until_expiration()"
   ]
  },
  {
   "cell_type": "code",
   "execution_count": 37,
   "id": "90c29203-6290-4d23-af72-adcc5e39ccdd",
   "metadata": {},
   "outputs": [
    {
     "name": "stdout",
     "output_type": "stream",
     "text": [
      "the Aspirin Used for : Pain reliever\n"
     ]
    }
   ],
   "source": [
    "def search_for_uses(medcname): #to know Uses for Medicine by name of Medicine\n",
    "\n",
    "  for med in home_pharmacy.values():\n",
    "    if med == home_pharmacy[medcname] :\n",
    "      return home_pharmacy[medcname][0]\n",
    "  return None\n",
    "\n",
    "\n",
    "\n",
    "med_name = input(\"Enter the Medicine name: \")\n",
    "try:\n",
    "    uses = search_for_uses(med_name)\n",
    "    if uses:\n",
    "      print(\"the\",med_name,\"Used for :\", uses)\n",
    "    else:\n",
    "      print(\"Medication not found.\")\n",
    "\n",
    "except:\n",
    "    print('medince not found')"
   ]
  },
  {
   "cell_type": "code",
   "execution_count": 38,
   "id": "de2bbc6d-61fe-42e7-8390-528464a6d03f",
   "metadata": {},
   "outputs": [
    {
     "name": "stdout",
     "output_type": "stream",
     "text": [
      "Available in storage: 8\n"
     ]
    }
   ],
   "source": [
    "def search_available_storage(medcname): #to display available Medicine in storage by Medicine name\n",
    "  \n",
    "\n",
    "  for med in home_pharmacy.values():\n",
    "    try:\n",
    "        if med == home_pharmacy[medcname]:\n",
    "            available_storage = home_pharmacy[medcname][2]\n",
    "            return print(\"Available in storage:\", available_storage)\n",
    "    except:\n",
    "        print('Medication not found')\n",
    "  return None\n",
    "\n",
    "med_name = input(\"Enter the medication name: \")\n",
    "available_storage = search_available_storage(med_name)"
   ]
  },
  {
   "cell_type": "code",
   "execution_count": 39,
   "id": "ff15e20e-d0bb-4d0a-8c89-6623ce02dc2a",
   "metadata": {},
   "outputs": [
    {
     "name": "stdout",
     "output_type": "stream",
     "text": [
      "all you have:  {'Paracetamol': ['fever reducer', ['karim', 'muhamed'], 6, '2026-12-12', 'yes'], 'Insulin': ['Treats diabetes', ['ali', 'khalid'], 10, '2030-01-01', 'yes'], 'Aspirin': ['Pain reliever', ['ahmed', 'hashim'], 8, '2025-12-12', 'yes']}\n",
      "------------------------------------------------------------\n",
      "now you have:  {'Insulin': ['Treats diabetes', ['ali', 'khalid'], 10, '2030-01-01', 'yes'], 'Aspirin': ['Pain reliever', ['ahmed', 'hashim'], 8, '2025-12-12', 'yes']}\n"
     ]
    }
   ],
   "source": [
    "def Remove_Medicine(NameOfMedc): #Can Remove the Medicine by Enter the Medicine Name\n",
    "    try:\n",
    "        del home_pharmacy[NameOfMedc]\n",
    "    \n",
    "    \n",
    "    except:\n",
    "        print(\"key not found\")\n",
    "              \n",
    "    return home_pharmacy\n",
    "\n",
    "\n",
    "print('all you have: ', home_pharmacy)\n",
    "print('------'*10)\n",
    "\n",
    "NameOfMedc = input(\"Enter Medicine Name to Remove it : \" )\n",
    "Remove_Medicine(NameOfMedc) #Called Function\n",
    "print('now you have: ' , home_pharmacy)"
   ]
  }
 ],
 "metadata": {
  "kernelspec": {
   "display_name": "Python 3 (ipykernel)",
   "language": "python",
   "name": "python3"
  },
  "language_info": {
   "codemirror_mode": {
    "name": "ipython",
    "version": 3
   },
   "file_extension": ".py",
   "mimetype": "text/x-python",
   "name": "python",
   "nbconvert_exporter": "python",
   "pygments_lexer": "ipython3",
   "version": "3.11.9"
  }
 },
 "nbformat": 4,
 "nbformat_minor": 5
}
