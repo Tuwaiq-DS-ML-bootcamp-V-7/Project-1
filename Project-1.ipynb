{
 "cells": [
  {
   "cell_type": "code",
   "execution_count": 11,
   "metadata": {},
   "outputs": [],
   "source": [
    "menu = {}"
   ]
  },
  {
   "cell_type": "code",
   "execution_count": 13,
   "metadata": {},
   "outputs": [],
   "source": [
    "def add_menu(dict, type):\n",
    "    try:\n",
    "        if type == 'breakfast':\n",
    "            dict['breakfast'] = {\n",
    "                'eggs': 5,\n",
    "                'kibda': 10,\n",
    "                'pesto': 7\n",
    "            }\n",
    "        elif type == 'lunch':\n",
    "            dict['lunch'] = {\n",
    "            }\n",
    "        elif type == 'dinner':\n",
    "            dict['dinner'] = {\n",
    "            }\n",
    "        else:\n",
    "            raise Exception\n",
    "        print(f\"All items in {type} added\")\n",
    "    except Exception:\n",
    "        print(f\"We don't support {type} so it won't be added to the menu\")"
   ]
  },
  {
   "cell_type": "code",
   "execution_count": 15,
   "metadata": {},
   "outputs": [],
   "source": [
    "def print_menu(dict):\n",
    "    for meal, items in dict.items():\n",
    "        print(meal)\n",
    "        for item, price in items.items():\n",
    "            print('    {}: {} SAR'.format(item, price))"
   ]
  },
  {
   "cell_type": "code",
   "execution_count": 17,
   "metadata": {},
   "outputs": [],
   "source": [
    "def check_item(dict, meal, item):\n",
    "    if meal in dict:\n",
    "        if item in dict[meal]:\n",
    "            print(f'Yes, {item} is available in {meal}')\n",
    "        else:\n",
    "            print(f'No, {item} is not available in {meal}')\n",
    "    else:\n",
    "        print(f'No, {item} is not available in {meal}')"
   ]
  },
  {
   "cell_type": "code",
   "execution_count": 19,
   "metadata": {},
   "outputs": [
    {
     "name": "stdout",
     "output_type": "stream",
     "text": [
      "All items in breakfast added\n",
      "All items in lunch added\n",
      "All items in dinner added\n",
      "We don't support x so it won't be added to the menu\n",
      "breakfast\n",
      "    eggs: 5 SAR\n",
      "    kibda: 10 SAR\n",
      "    pesto: 7 SAR\n",
      "lunch\n",
      "dinner\n",
      "{'breakfast': {'eggs': 5, 'kibda': 10, 'pesto': 7}, 'lunch': {}, 'dinner': {}}\n",
      "5\n",
      "Yes, kibda is available in breakfast\n",
      "No, pasta is not available in lunch\n"
     ]
    }
   ],
   "source": [
    "add_menu(menu, 'breakfast')\n",
    "add_menu(menu, 'lunch')\n",
    "add_menu(menu, 'dinner')\n",
    "add_menu(menu, 'x')\n",
    "print_menu(menu)\n",
    "print(menu)\n",
    "print(menu['breakfast']['eggs'])\n",
    "\n",
    "check_item(menu, 'breakfast', 'kibda')\n",
    "check_item(menu, 'lunch', 'pasta')"
   ]
  },
  {
   "cell_type": "code",
   "execution_count": 21,
   "metadata": {},
   "outputs": [
    {
     "name": "stdout",
     "output_type": "stream",
     "text": [
      "eggs\n",
      "5 0.75\n",
      "kibda\n",
      "10 1.5\n",
      "pesto\n",
      "7 1.05\n"
     ]
    }
   ],
   "source": [
    "def lam(Dict1):\n",
    "    for meal, items in Dict1.items():\n",
    "        for item, value in items.items():\n",
    "            if type(item) == type(str()):\n",
    "                print(item)\n",
    "            if type(value) == type(float()) or type(value) == type(int()):\n",
    "                res = (lambda x: x * 0.15)(value)\n",
    "                print(value, res)\n",
    "\n",
    "lam(menu)"
   ]
  }
 ],
 "metadata": {
  "kernelspec": {
   "display_name": "Python 3 (ipykernel)",
   "language": "python",
   "name": "python3"
  },
  "language_info": {
   "codemirror_mode": {
    "name": "ipython",
    "version": 3
   },
   "file_extension": ".py",
   "mimetype": "text/x-python",
   "name": "python",
   "nbconvert_exporter": "python",
   "pygments_lexer": "ipython3",
   "version": "3.12.4"
  }
 },
 "nbformat": 4,
 "nbformat_minor": 4
}
